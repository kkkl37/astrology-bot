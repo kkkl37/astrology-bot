{
 "cells": [
  {
   "cell_type": "code",
   "execution_count": 3,
   "metadata": {},
   "outputs": [],
   "source": [
    "from transformers import LlamaForCausalLM, LlamaTokenizer,TrainingArguments, Trainer\n",
    "from datasets import Dataset\n",
    "# from torch.utils.data import Dataset, random_split\n",
    "import pandas as pd\n",
    "import torch\n",
    "import re\n",
    "import os"
   ]
  },
  {
   "cell_type": "code",
   "execution_count": 4,
   "metadata": {},
   "outputs": [],
   "source": [
    "checkpoint = 'llama-2-7b-converted'"
   ]
  },
  {
   "cell_type": "code",
   "execution_count": 5,
   "metadata": {},
   "outputs": [
    {
     "name": "stderr",
     "output_type": "stream",
     "text": [
      "Loading checkpoint shards: 100%|██████████| 3/3 [00:03<00:00,  1.24s/it]\n"
     ]
    }
   ],
   "source": [
    "device = torch.device(\"cuda\" if torch.cuda.is_available() else \"cpu\")\n",
    "tokenizer = LlamaTokenizer.from_pretrained(checkpoint)\n",
    "tokenizer.add_special_tokens({'pad_token': '[PAD]'})\n",
    "model = LlamaForCausalLM.from_pretrained(checkpoint,torch_dtype=torch.float16).to(device)  \n",
    "max_seq_len = 500"
   ]
  },
  {
   "cell_type": "code",
   "execution_count": 6,
   "metadata": {},
   "outputs": [],
   "source": [
    "class HoroscopeDataset(Dataset):\n",
    "    def __init__(self, txt_list, tokenizer, max_length):\n",
    "        self.input_ids = []\n",
    "        self.attn_masks = []\n",
    "        self.labels = []\n",
    "        for txt in txt_list:\n",
    "            encodings_dict = tokenizer('<|startoftext|>' + txt.strip('\\\"') + '<|endoftext|>', truncation=True,\n",
    "                                    max_length=max_length, padding=\"max_length\")\n",
    "            self.input_ids.append(torch.tensor(encodings_dict['input_ids']))\n",
    "            self.attn_masks.append(torch.tensor(encodings_dict['attention_mask']))\n",
    "\n",
    "    def __len__(self):\n",
    "        return len(self.input_ids)\n",
    "\n",
    "    def __getitem__(self, idx):\n",
    "        return self.input_ids[idx], self.attn_masks[idx]"
   ]
  },
  {
   "cell_type": "code",
   "execution_count": 7,
   "metadata": {},
   "outputs": [
    {
     "data": {
      "text/html": [
       "<div>\n",
       "<style scoped>\n",
       "    .dataframe tbody tr th:only-of-type {\n",
       "        vertical-align: middle;\n",
       "    }\n",
       "\n",
       "    .dataframe tbody tr th {\n",
       "        vertical-align: top;\n",
       "    }\n",
       "\n",
       "    .dataframe thead th {\n",
       "        text-align: right;\n",
       "    }\n",
       "</style>\n",
       "<table border=\"1\" class=\"dataframe\">\n",
       "  <thead>\n",
       "    <tr style=\"text-align: right;\">\n",
       "      <th></th>\n",
       "      <th>zodiac</th>\n",
       "      <th>area</th>\n",
       "      <th>text</th>\n",
       "    </tr>\n",
       "  </thead>\n",
       "  <tbody>\n",
       "    <tr>\n",
       "      <th>0</th>\n",
       "      <td>aries</td>\n",
       "      <td>daily</td>\n",
       "      <td>\\nYou should feel grounded and connected with ...</td>\n",
       "    </tr>\n",
       "    <tr>\n",
       "      <th>1</th>\n",
       "      <td>aries</td>\n",
       "      <td>love</td>\n",
       "      <td>\\nAs the heavens turn, we watch their captivat...</td>\n",
       "    </tr>\n",
       "    <tr>\n",
       "      <th>2</th>\n",
       "      <td>aries</td>\n",
       "      <td>work</td>\n",
       "      <td>\\nRedirect your energy, Aries. You may feel in...</td>\n",
       "    </tr>\n",
       "    <tr>\n",
       "      <th>3</th>\n",
       "      <td>aries</td>\n",
       "      <td>dating</td>\n",
       "      <td>\\nIt's okay to have a minor outburst every now...</td>\n",
       "    </tr>\n",
       "    <tr>\n",
       "      <th>4</th>\n",
       "      <td>taurus</td>\n",
       "      <td>daily</td>\n",
       "      <td>\\nThe moon continues its journey through your ...</td>\n",
       "    </tr>\n",
       "  </tbody>\n",
       "</table>\n",
       "</div>"
      ],
      "text/plain": [
       "   zodiac    area                                               text\n",
       "0   aries   daily  \\nYou should feel grounded and connected with ...\n",
       "1   aries    love  \\nAs the heavens turn, we watch their captivat...\n",
       "2   aries    work  \\nRedirect your energy, Aries. You may feel in...\n",
       "3   aries  dating  \\nIt's okay to have a minor outburst every now...\n",
       "4  taurus   daily  \\nThe moon continues its journey through your ..."
      ]
     },
     "execution_count": 7,
     "metadata": {},
     "output_type": "execute_result"
    }
   ],
   "source": [
    "horoscope = pd.read_csv('horoscope.csv')\n",
    "horoscope.head()"
   ]
  },
  {
   "cell_type": "code",
   "execution_count": 10,
   "metadata": {},
   "outputs": [
    {
     "name": "stderr",
     "output_type": "stream",
     "text": [
      "Map:   0%|          | 0/48 [00:00<?, ? examples/s]"
     ]
    },
    {
     "name": "stderr",
     "output_type": "stream",
     "text": [
      "Map: 100%|██████████| 48/48 [00:00<00:00, 834.56 examples/s]\n"
     ]
    }
   ],
   "source": [
    "# clean the text column\n",
    "horoscope['text'] = horoscope['text'].str.strip('\\\"')\n",
    "horoscope_small = horoscope[['zodiac','text']]\n",
    "\n",
    "# load the dataset into the Dataset object\n",
    "dataset = Dataset.from_pandas(horoscope_small)\n",
    "\n",
    "# a tokenization function to apply on every text in the dataset\n",
    "def horoscope_tokenizer(horoscope):\n",
    "    return tokenizer(horoscope['text'], padding='max_length', max_length=max_seq_len, truncation=True)\n",
    "\n",
    "tokenized_datasets = dataset.map(horoscope_tokenizer)\n",
    "# cleaned_datasets = tokenized_datasets.remove_columns(['day', 'month', 'year', 'sign', 'text', '__index_level_0__'])\n"
   ]
  },
  {
   "cell_type": "code",
   "execution_count": null,
   "metadata": {},
   "outputs": [],
   "source": [
    "# lets make sure the size of the first input is set to 100, so the padding worked.\n",
    "assert (len(tokenized_datasets['text'][0]['input_ids'])) == max_seq_len\n"
   ]
  },
  {
   "cell_type": "code",
   "execution_count": 11,
   "metadata": {},
   "outputs": [
    {
     "data": {
      "text/plain": [
       "\"\\nYou should feel grounded and connected with the world around you, dear Aries, as the moon continues its journey through earthy Taurus. Consider what can be added to your plate when Luna and Jupiter unite this afternoon, especially when it comes to money-making ideas. This cosmic climate brings luck to your finances, though you may find yourself in a generous mood as well. You'll crave the finer things in life later today when the moon and Uranus unite, and you shouldn't feel guilty about treating yourself to a small indulgence or two as a reward for all your hard work.\\n\""
      ]
     },
     "execution_count": 11,
     "metadata": {},
     "output_type": "execute_result"
    }
   ],
   "source": [
    "tokenized_datasets['text'][0]"
   ]
  },
  {
   "cell_type": "code",
   "execution_count": 7,
   "metadata": {},
   "outputs": [],
   "source": [
    "horoscope_small = horoscope[['zodiac','text']]"
   ]
  },
  {
   "cell_type": "code",
   "execution_count": 8,
   "metadata": {},
   "outputs": [],
   "source": [
    "max_length = max([len(tokenizer.encode(description)) for description in horoscope_small])\n",
    "dataset = HoroscopeDataset(horoscope_small, tokenizer, max_length=max_length)\n",
    "train_size = int(0.9 * len(dataset))\n",
    "train_dataset, val_dataset = random_split(dataset, [train_size, len(dataset) - train_size])"
   ]
  },
  {
   "cell_type": "code",
   "execution_count": 15,
   "metadata": {},
   "outputs": [
    {
     "data": {
      "text/html": [
       "<div>\n",
       "<style scoped>\n",
       "    .dataframe tbody tr th:only-of-type {\n",
       "        vertical-align: middle;\n",
       "    }\n",
       "\n",
       "    .dataframe tbody tr th {\n",
       "        vertical-align: top;\n",
       "    }\n",
       "\n",
       "    .dataframe thead th {\n",
       "        text-align: right;\n",
       "    }\n",
       "</style>\n",
       "<table border=\"1\" class=\"dataframe\">\n",
       "  <thead>\n",
       "    <tr style=\"text-align: right;\">\n",
       "      <th></th>\n",
       "      <th>zodiac</th>\n",
       "      <th>text</th>\n",
       "    </tr>\n",
       "  </thead>\n",
       "  <tbody>\n",
       "    <tr>\n",
       "      <th>0</th>\n",
       "      <td>aries</td>\n",
       "      <td>\\nYou should feel grounded and connected with ...</td>\n",
       "    </tr>\n",
       "    <tr>\n",
       "      <th>1</th>\n",
       "      <td>aries</td>\n",
       "      <td>\\nAs the heavens turn, we watch their captivat...</td>\n",
       "    </tr>\n",
       "    <tr>\n",
       "      <th>2</th>\n",
       "      <td>aries</td>\n",
       "      <td>\\nRedirect your energy, Aries. You may feel in...</td>\n",
       "    </tr>\n",
       "    <tr>\n",
       "      <th>3</th>\n",
       "      <td>aries</td>\n",
       "      <td>\\nIt's okay to have a minor outburst every now...</td>\n",
       "    </tr>\n",
       "    <tr>\n",
       "      <th>4</th>\n",
       "      <td>taurus</td>\n",
       "      <td>\\nThe moon continues its journey through your ...</td>\n",
       "    </tr>\n",
       "    <tr>\n",
       "      <th>5</th>\n",
       "      <td>taurus</td>\n",
       "      <td>\\nA miraculous, gorgeous cosmic alignment has ...</td>\n",
       "    </tr>\n",
       "    <tr>\n",
       "      <th>6</th>\n",
       "      <td>taurus</td>\n",
       "      <td>\\nComparison is the thief of joy, Taurus. This...</td>\n",
       "    </tr>\n",
       "    <tr>\n",
       "      <th>7</th>\n",
       "      <td>taurus</td>\n",
       "      <td>\\nIf you're single right now, what are you wai...</td>\n",
       "    </tr>\n",
       "    <tr>\n",
       "      <th>8</th>\n",
       "      <td>gemini</td>\n",
       "      <td>\\nTake note of any interesting dreams early th...</td>\n",
       "    </tr>\n",
       "    <tr>\n",
       "      <th>9</th>\n",
       "      <td>gemini</td>\n",
       "      <td>\\nWe are firmly planted within earthy cosmic v...</td>\n",
       "    </tr>\n",
       "    <tr>\n",
       "      <th>10</th>\n",
       "      <td>gemini</td>\n",
       "      <td>\\nHow do you feel about your career path, Gemi...</td>\n",
       "    </tr>\n",
       "    <tr>\n",
       "      <th>11</th>\n",
       "      <td>gemini</td>\n",
       "      <td>\\nIt's okay to be cheap today. You have your m...</td>\n",
       "    </tr>\n",
       "    <tr>\n",
       "      <th>12</th>\n",
       "      <td>cancer</td>\n",
       "      <td>\\nYou'll feel emotionally connected to your co...</td>\n",
       "    </tr>\n",
       "    <tr>\n",
       "      <th>13</th>\n",
       "      <td>cancer</td>\n",
       "      <td>\\nAs a flowy, emotional water sign, you like t...</td>\n",
       "    </tr>\n",
       "    <tr>\n",
       "      <th>14</th>\n",
       "      <td>cancer</td>\n",
       "      <td>\\nYou can go the distance, Cancer. It might be...</td>\n",
       "    </tr>\n",
       "    <tr>\n",
       "      <th>15</th>\n",
       "      <td>cancer</td>\n",
       "      <td>\\nAre you feeling conflicted? Relax and your i...</td>\n",
       "    </tr>\n",
       "    <tr>\n",
       "      <th>16</th>\n",
       "      <td>leo</td>\n",
       "      <td>\\nBuild steadily toward long-term goals as the...</td>\n",
       "    </tr>\n",
       "    <tr>\n",
       "      <th>17</th>\n",
       "      <td>leo</td>\n",
       "      <td>\\nYou’re a lusty, hedonistic fire sign, Leo. H...</td>\n",
       "    </tr>\n",
       "    <tr>\n",
       "      <th>18</th>\n",
       "      <td>leo</td>\n",
       "      <td>\\nDo not limit yourself, Leo. Financial fears ...</td>\n",
       "    </tr>\n",
       "    <tr>\n",
       "      <th>19</th>\n",
       "      <td>leo</td>\n",
       "      <td>\\nThis is one of those days when you should st...</td>\n",
       "    </tr>\n",
       "    <tr>\n",
       "      <th>20</th>\n",
       "      <td>virgo</td>\n",
       "      <td>\\nLean closely into your spirituality, dear Vi...</td>\n",
       "    </tr>\n",
       "    <tr>\n",
       "      <th>21</th>\n",
       "      <td>virgo</td>\n",
       "      <td>\\nOf all the zodiac signs, you are one of the ...</td>\n",
       "    </tr>\n",
       "    <tr>\n",
       "      <th>22</th>\n",
       "      <td>virgo</td>\n",
       "      <td>\\nYou can do whatever you like, Virgo. There a...</td>\n",
       "    </tr>\n",
       "    <tr>\n",
       "      <th>23</th>\n",
       "      <td>virgo</td>\n",
       "      <td>\\nIt's time to spend some time with the family...</td>\n",
       "    </tr>\n",
       "    <tr>\n",
       "      <th>24</th>\n",
       "      <td>libra</td>\n",
       "      <td>\\nThe energy slows down a bit as the moon cont...</td>\n",
       "    </tr>\n",
       "    <tr>\n",
       "      <th>25</th>\n",
       "      <td>libra</td>\n",
       "      <td>\\nWhen it comes to a zodiac sign that loves it...</td>\n",
       "    </tr>\n",
       "    <tr>\n",
       "      <th>26</th>\n",
       "      <td>libra</td>\n",
       "      <td>\\nWork may not be going as you might have hope...</td>\n",
       "    </tr>\n",
       "    <tr>\n",
       "      <th>27</th>\n",
       "      <td>libra</td>\n",
       "      <td>\\nInstead of focusing on the bigger picture, p...</td>\n",
       "    </tr>\n",
       "    <tr>\n",
       "      <th>28</th>\n",
       "      <td>scorpio</td>\n",
       "      <td>\\nThe Taurus moon connects with Mars and Satur...</td>\n",
       "    </tr>\n",
       "    <tr>\n",
       "      <th>29</th>\n",
       "      <td>scorpio</td>\n",
       "      <td>\\nAs a fixed sign, you can be rather rigid in ...</td>\n",
       "    </tr>\n",
       "    <tr>\n",
       "      <th>30</th>\n",
       "      <td>scorpio</td>\n",
       "      <td>\\nDo you feel creatively stifled, Scorpio? Mak...</td>\n",
       "    </tr>\n",
       "    <tr>\n",
       "      <th>31</th>\n",
       "      <td>scorpio</td>\n",
       "      <td>\\nSuddenly everything you wanted has started c...</td>\n",
       "    </tr>\n",
       "    <tr>\n",
       "      <th>32</th>\n",
       "      <td>sagittarius</td>\n",
       "      <td>\\nInvest in your future by working hard toward...</td>\n",
       "    </tr>\n",
       "    <tr>\n",
       "      <th>33</th>\n",
       "      <td>sagittarius</td>\n",
       "      <td>\\nAs our Great Benefic, Jupiter, dances in a z...</td>\n",
       "    </tr>\n",
       "    <tr>\n",
       "      <th>34</th>\n",
       "      <td>sagittarius</td>\n",
       "      <td>\\nFeelings of guilt and anger may find you tod...</td>\n",
       "    </tr>\n",
       "    <tr>\n",
       "      <th>35</th>\n",
       "      <td>sagittarius</td>\n",
       "      <td>\\nFollow your mood today. If you're not feelin...</td>\n",
       "    </tr>\n",
       "    <tr>\n",
       "      <th>36</th>\n",
       "      <td>capricorn</td>\n",
       "      <td>\\nFollow your passions as the moon continues i...</td>\n",
       "    </tr>\n",
       "    <tr>\n",
       "      <th>37</th>\n",
       "      <td>capricorn</td>\n",
       "      <td>\\nWith our Great Benefic, glorious Jupiter, in...</td>\n",
       "    </tr>\n",
       "    <tr>\n",
       "      <th>38</th>\n",
       "      <td>capricorn</td>\n",
       "      <td>\\nDo not let anyone get you down, Capricorn. Y...</td>\n",
       "    </tr>\n",
       "    <tr>\n",
       "      <th>39</th>\n",
       "      <td>capricorn</td>\n",
       "      <td>\\nA couple things are on the table for your co...</td>\n",
       "    </tr>\n",
       "    <tr>\n",
       "      <th>40</th>\n",
       "      <td>aquarius</td>\n",
       "      <td>\\nGo slow while listening to your heart and mi...</td>\n",
       "    </tr>\n",
       "    <tr>\n",
       "      <th>41</th>\n",
       "      <td>aquarius</td>\n",
       "      <td>\\nWith our Great Benefic, mighty Jupiter, spin...</td>\n",
       "    </tr>\n",
       "    <tr>\n",
       "      <th>42</th>\n",
       "      <td>aquarius</td>\n",
       "      <td>\\nFinancial frustrations may pop up today, Aqu...</td>\n",
       "    </tr>\n",
       "    <tr>\n",
       "      <th>43</th>\n",
       "      <td>aquarius</td>\n",
       "      <td>\\nYou've had fun, but the chores have piled up...</td>\n",
       "    </tr>\n",
       "    <tr>\n",
       "      <th>44</th>\n",
       "      <td>pisces</td>\n",
       "      <td>\\nTake in your surroundings with a sense of cu...</td>\n",
       "    </tr>\n",
       "    <tr>\n",
       "      <th>45</th>\n",
       "      <td>pisces</td>\n",
       "      <td>\\nWhenever our Great Benefic, mighty Jupiter, ...</td>\n",
       "    </tr>\n",
       "    <tr>\n",
       "      <th>46</th>\n",
       "      <td>pisces</td>\n",
       "      <td>\\nAre you your own worst enemy, Pisces? It mig...</td>\n",
       "    </tr>\n",
       "    <tr>\n",
       "      <th>47</th>\n",
       "      <td>pisces</td>\n",
       "      <td>\\nCreativity figures strongly in your day, so ...</td>\n",
       "    </tr>\n",
       "  </tbody>\n",
       "</table>\n",
       "</div>"
      ],
      "text/plain": [
       "         zodiac                                               text\n",
       "0         aries  \\nYou should feel grounded and connected with ...\n",
       "1         aries  \\nAs the heavens turn, we watch their captivat...\n",
       "2         aries  \\nRedirect your energy, Aries. You may feel in...\n",
       "3         aries  \\nIt's okay to have a minor outburst every now...\n",
       "4        taurus  \\nThe moon continues its journey through your ...\n",
       "5        taurus  \\nA miraculous, gorgeous cosmic alignment has ...\n",
       "6        taurus  \\nComparison is the thief of joy, Taurus. This...\n",
       "7        taurus  \\nIf you're single right now, what are you wai...\n",
       "8        gemini  \\nTake note of any interesting dreams early th...\n",
       "9        gemini  \\nWe are firmly planted within earthy cosmic v...\n",
       "10       gemini  \\nHow do you feel about your career path, Gemi...\n",
       "11       gemini  \\nIt's okay to be cheap today. You have your m...\n",
       "12       cancer  \\nYou'll feel emotionally connected to your co...\n",
       "13       cancer  \\nAs a flowy, emotional water sign, you like t...\n",
       "14       cancer  \\nYou can go the distance, Cancer. It might be...\n",
       "15       cancer  \\nAre you feeling conflicted? Relax and your i...\n",
       "16          leo  \\nBuild steadily toward long-term goals as the...\n",
       "17          leo  \\nYou’re a lusty, hedonistic fire sign, Leo. H...\n",
       "18          leo  \\nDo not limit yourself, Leo. Financial fears ...\n",
       "19          leo  \\nThis is one of those days when you should st...\n",
       "20        virgo  \\nLean closely into your spirituality, dear Vi...\n",
       "21        virgo  \\nOf all the zodiac signs, you are one of the ...\n",
       "22        virgo  \\nYou can do whatever you like, Virgo. There a...\n",
       "23        virgo  \\nIt's time to spend some time with the family...\n",
       "24        libra  \\nThe energy slows down a bit as the moon cont...\n",
       "25        libra  \\nWhen it comes to a zodiac sign that loves it...\n",
       "26        libra  \\nWork may not be going as you might have hope...\n",
       "27        libra  \\nInstead of focusing on the bigger picture, p...\n",
       "28      scorpio  \\nThe Taurus moon connects with Mars and Satur...\n",
       "29      scorpio  \\nAs a fixed sign, you can be rather rigid in ...\n",
       "30      scorpio  \\nDo you feel creatively stifled, Scorpio? Mak...\n",
       "31      scorpio  \\nSuddenly everything you wanted has started c...\n",
       "32  sagittarius  \\nInvest in your future by working hard toward...\n",
       "33  sagittarius  \\nAs our Great Benefic, Jupiter, dances in a z...\n",
       "34  sagittarius  \\nFeelings of guilt and anger may find you tod...\n",
       "35  sagittarius  \\nFollow your mood today. If you're not feelin...\n",
       "36    capricorn  \\nFollow your passions as the moon continues i...\n",
       "37    capricorn  \\nWith our Great Benefic, glorious Jupiter, in...\n",
       "38    capricorn  \\nDo not let anyone get you down, Capricorn. Y...\n",
       "39    capricorn  \\nA couple things are on the table for your co...\n",
       "40     aquarius  \\nGo slow while listening to your heart and mi...\n",
       "41     aquarius  \\nWith our Great Benefic, mighty Jupiter, spin...\n",
       "42     aquarius  \\nFinancial frustrations may pop up today, Aqu...\n",
       "43     aquarius  \\nYou've had fun, but the chores have piled up...\n",
       "44       pisces  \\nTake in your surroundings with a sense of cu...\n",
       "45       pisces  \\nWhenever our Great Benefic, mighty Jupiter, ...\n",
       "46       pisces  \\nAre you your own worst enemy, Pisces? It mig...\n",
       "47       pisces  \\nCreativity figures strongly in your day, so ..."
      ]
     },
     "execution_count": 15,
     "metadata": {},
     "output_type": "execute_result"
    }
   ],
   "source": [
    "horoscope_small"
   ]
  },
  {
   "cell_type": "code",
   "execution_count": 14,
   "metadata": {},
   "outputs": [
    {
     "data": {
      "text/plain": [
       "2"
      ]
     },
     "execution_count": 14,
     "metadata": {},
     "output_type": "execute_result"
    }
   ],
   "source": [
    "len(dataset)"
   ]
  },
  {
   "cell_type": "code",
   "execution_count": 9,
   "metadata": {},
   "outputs": [
    {
     "data": {
      "text/plain": [
       "(tensor([    1,   529, 29989,  2962]), tensor([1, 1, 1, 1]))"
      ]
     },
     "execution_count": 9,
     "metadata": {},
     "output_type": "execute_result"
    }
   ],
   "source": [
    "dataset[0]"
   ]
  },
  {
   "cell_type": "code",
   "execution_count": 10,
   "metadata": {},
   "outputs": [
    {
     "data": {
      "text/plain": [
       "(tensor([    1,   529, 29989,  2962]), tensor([1, 1, 1, 1]))"
      ]
     },
     "execution_count": 10,
     "metadata": {},
     "output_type": "execute_result"
    }
   ],
   "source": [
    "dataset[1]"
   ]
  },
  {
   "cell_type": "code",
   "execution_count": 11,
   "metadata": {},
   "outputs": [
    {
     "data": {
      "text/plain": [
       "(tensor([    1,   529, 29989,  2962]), tensor([1, 1, 1, 1]))"
      ]
     },
     "execution_count": 11,
     "metadata": {},
     "output_type": "execute_result"
    }
   ],
   "source": [
    "dataset[-1]"
   ]
  },
  {
   "cell_type": "code",
   "execution_count": null,
   "metadata": {},
   "outputs": [],
   "source": [
    "training_args = TrainingArguments(output_dir='/output/model_checkpoints/', num_train_epochs=5,\n",
    "                                    logging_steps=1000, save_steps=20000,\n",
    "                                    per_device_train_batch_size=1, per_device_eval_batch_size=1,\n",
    "                                    warmup_steps=100, weight_decay=0.01, logging_dir='./logs')\n",
    "Trainer(model=model, args=training_args, train_dataset=train_dataset,\n",
    "          eval_dataset=val_dataset, data_collator=lambda data: {'input_ids': torch.stack([f[0] for f in data]),\n",
    "                                                                'attention_mask': torch.stack([f[1] for f in data]),\n",
    "                                                                'labels': torch.stack([f[0] for f in data])}).train()\n"
   ]
  }
 ],
 "metadata": {
  "kernelspec": {
   "display_name": "env",
   "language": "python",
   "name": "python3"
  },
  "language_info": {
   "codemirror_mode": {
    "name": "ipython",
    "version": 3
   },
   "file_extension": ".py",
   "mimetype": "text/x-python",
   "name": "python",
   "nbconvert_exporter": "python",
   "pygments_lexer": "ipython3",
   "version": "3.10.13"
  }
 },
 "nbformat": 4,
 "nbformat_minor": 2
}
